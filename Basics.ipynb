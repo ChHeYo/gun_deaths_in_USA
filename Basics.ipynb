{
 "cells": [
  {
   "cell_type": "markdown",
   "metadata": {},
   "source": [
    "** Gun Related Deaths in the States **"
   ]
  },
  {
   "cell_type": "code",
   "execution_count": 1,
   "metadata": {
    "collapsed": false
   },
   "outputs": [
    {
     "data": {
      "text/plain": [
       "[['',\n",
       "  'year',\n",
       "  'month',\n",
       "  'intent',\n",
       "  'police',\n",
       "  'sex',\n",
       "  'age',\n",
       "  'race',\n",
       "  'hispanic',\n",
       "  'place',\n",
       "  'education'],\n",
       " ['1',\n",
       "  '2012',\n",
       "  '01',\n",
       "  'Suicide',\n",
       "  '0',\n",
       "  'M',\n",
       "  '34',\n",
       "  'Asian/Pacific Islander',\n",
       "  '100',\n",
       "  'Home',\n",
       "  '4'],\n",
       " ['2', '2012', '01', 'Suicide', '0', 'F', '21', 'White', '100', 'Street', '3'],\n",
       " ['3',\n",
       "  '2012',\n",
       "  '01',\n",
       "  'Suicide',\n",
       "  '0',\n",
       "  'M',\n",
       "  '60',\n",
       "  'White',\n",
       "  '100',\n",
       "  'Other specified',\n",
       "  '4'],\n",
       " ['4', '2012', '02', 'Suicide', '0', 'M', '64', 'White', '100', 'Home', '4']]"
      ]
     },
     "execution_count": 1,
     "metadata": {},
     "output_type": "execute_result"
    }
   ],
   "source": [
    "import csv\n",
    "f = open('guns.csv', 'r')\n",
    "data = list(csv.reader(f))\n",
    "data[:5]"
   ]
  },
  {
   "cell_type": "code",
   "execution_count": 2,
   "metadata": {
    "collapsed": false
   },
   "outputs": [
    {
     "name": "stdout",
     "output_type": "stream",
     "text": [
      "['', 'year', 'month', 'intent', 'police', 'sex', 'age', 'race', 'hispanic', 'place', 'education']\n",
      "[['1', '2012', '01', 'Suicide', '0', 'M', '34', 'Asian/Pacific Islander', '100', 'Home', '4'], ['2', '2012', '01', 'Suicide', '0', 'F', '21', 'White', '100', 'Street', '3'], ['3', '2012', '01', 'Suicide', '0', 'M', '60', 'White', '100', 'Other specified', '4'], ['4', '2012', '02', 'Suicide', '0', 'M', '64', 'White', '100', 'Home', '4'], ['5', '2012', '02', 'Suicide', '0', 'M', '31', 'White', '100', 'Other specified', '2']]\n"
     ]
    }
   ],
   "source": [
    "headers = data[0]\n",
    "data = data[1:]\n",
    "print(headers)\n",
    "print(data[:5])"
   ]
  },
  {
   "cell_type": "code",
   "execution_count": 4,
   "metadata": {
    "collapsed": false
   },
   "outputs": [
    {
     "data": {
      "text/plain": [
       "{'2012': 33563, '2013': 33636, '2014': 33599}"
      ]
     },
     "execution_count": 4,
     "metadata": {},
     "output_type": "execute_result"
    }
   ],
   "source": [
    "years = [case[1] for case in data]\n",
    "year_count = {}\n",
    "for year in years:\n",
    "    if year in year_count:\n",
    "        year_count[year] += 1\n",
    "    else:\n",
    "        year_count[year] = 1\n",
    "year_count"
   ]
  },
  {
   "cell_type": "code",
   "execution_count": 15,
   "metadata": {
    "collapsed": false
   },
   "outputs": [
    {
     "name": "stdout",
     "output_type": "stream",
     "text": [
      "2013-06-01 00:00:00: 2920\n",
      "2014-06-01 00:00:00: 2931\n",
      "2014-08-01 00:00:00: 2970\n",
      "2013-04-01 00:00:00: 2798\n",
      "2012-11-01 00:00:00: 2729\n",
      "2012-10-01 00:00:00: 2733\n"
     ]
    }
   ],
   "source": [
    "import datetime\n",
    "dates = [datetime.datetime(year=int(case[1]), month=int(case[2]), day=1) for case in data]\n",
    "# print(dates[:5])\n",
    "\n",
    "date_counts = {}\n",
    "for date in dates:\n",
    "    if date in date_counts:\n",
    "        date_counts[date] += 1\n",
    "    else:\n",
    "        date_counts[date] = 1\n",
    "\n",
    "show_counts = 0\n",
    "for key, value in date_counts.items():\n",
    "    print(str(key) + \": \" + str(value))\n",
    "    show_counts += 1\n",
    "    if show_counts > 5:\n",
    "        break"
   ]
  },
  {
   "cell_type": "code",
   "execution_count": 17,
   "metadata": {
    "collapsed": false
   },
   "outputs": [
    {
     "name": "stdout",
     "output_type": "stream",
     "text": [
      "{'M': 86349, 'F': 14449}\n",
      "{'Hispanic': 9022, 'Black': 23296, 'Native American/Native Alaskan': 917, 'Asian/Pacific Islander': 1326, 'White': 66237}\n"
     ]
    }
   ],
   "source": [
    "sex_counts = {}\n",
    "for case in data:\n",
    "    if case[5] in sex_counts:\n",
    "        sex_counts[case[5]] += 1\n",
    "    else:\n",
    "        sex_counts[case[5]] = 1\n",
    "\n",
    "race_counts = {}\n",
    "for case in data:\n",
    "    if case[7] in race_counts:\n",
    "        race_counts[case[7]] += 1\n",
    "    else:\n",
    "        race_counts[case[7]] = 1\n",
    "\n",
    "print(sex_counts)\n",
    "print(race_counts)"
   ]
  },
  {
   "cell_type": "code",
   "execution_count": 28,
   "metadata": {
    "collapsed": false
   },
   "outputs": [
    {
     "data": {
      "text/plain": [
       "['cen42010',\n",
       " 'April 1, 2010 Census',\n",
       " 'totsex',\n",
       " 'Both Sexes',\n",
       " 'tothisp',\n",
       " 'Total',\n",
       " '0100000US',\n",
       " '',\n",
       " 'United States',\n",
       " '308745538',\n",
       " '197318956',\n",
       " '44618105',\n",
       " '40250635',\n",
       " '3739506',\n",
       " '15159516',\n",
       " '674625',\n",
       " '6984195']"
      ]
     },
     "execution_count": 28,
     "metadata": {},
     "output_type": "execute_result"
    }
   ],
   "source": [
    "census_data = open('census.csv', 'r')\n",
    "census = list(csv.reader(census_data))\n",
    "census[1]"
   ]
  },
  {
   "cell_type": "code",
   "execution_count": 27,
   "metadata": {
    "collapsed": false
   },
   "outputs": [
    {
     "data": {
      "text/plain": [
       "{'Asian/Pacific Islander': 15834141,\n",
       " 'Black': 40250635,\n",
       " 'Hispanic': 44618105,\n",
       " 'Native American/Native Alaskan': 3739506,\n",
       " 'White': 197318956}"
      ]
     },
     "execution_count": 27,
     "metadata": {},
     "output_type": "execute_result"
    }
   ],
   "source": [
    "keys = [\"White\", \"Hispanic\", \"Black\", \"Native American/Native Alaskan\", \"Asian/Pacific Islander\"]\n",
    "population_by_race = census[1][-7:-1]\n",
    "new_dictionary = {}\n",
    "for index, population in enumerate(keys):\n",
    "    if index < 4:\n",
    "        new_dictionary[population] = int(population_by_race[index])\n",
    "    elif index >= 4:\n",
    "        new_dictionary[population] = int(population_by_race[index]) + int(population_by_race[5])\n",
    "new_dictionary"
   ]
  },
  {
   "cell_type": "code",
   "execution_count": 29,
   "metadata": {
    "collapsed": false
   },
   "outputs": [
    {
     "name": "stdout",
     "output_type": "stream",
     "text": [
      "{'Black': 57.8773477735196, 'White': 33.56849303419181, 'Hispanic': 20.220491210910907, 'Asian/Pacific Islander': 8.374309664161762, 'Native American/Native Alaskan': 24.521955573811088}\n"
     ]
    }
   ],
   "source": [
    "race_per_hundredk = {}\n",
    "for race, number_of_victims in race_counts.items():\n",
    "    adjusted_number = (number_of_victims/new_dictionary[race])\n",
    "    adjusted_number *= 100000\n",
    "    race_per_hundredk[race] = adjusted_number\n",
    "print(race_per_hundredk)"
   ]
  },
  {
   "cell_type": "code",
   "execution_count": 30,
   "metadata": {
    "collapsed": false
   },
   "outputs": [
    {
     "name": "stdout",
     "output_type": "stream",
     "text": [
      "{'Hispanic': 2, 'Black': 20, 'Native American/Native Alaskan': 1, 'Asian/Pacific Islander': 2, 'White': 2}\n"
     ]
    }
   ],
   "source": [
    "intents = [case[3] for case in data]\n",
    "races = [case[7] for case in data]\n",
    "homicide_race_counts = {}\n",
    "for i, race in enumerate(races):\n",
    "    if intents[i] == \"Homicide\":\n",
    "        homicide_race_counts[race] += 1\n",
    "    else:\n",
    "        homicide_race_counts[race] = 1\n",
    "print(homicide_race_counts)"
   ]
  },
  {
   "cell_type": "code",
   "execution_count": 31,
   "metadata": {
    "collapsed": false
   },
   "outputs": [
    {
     "name": "stdout",
     "output_type": "stream",
     "text": [
      "{'Black': 0.04968865708578262, 'White': 0.0010135873615710798, 'Hispanic': 0.004482485305012393, 'Asian/Pacific Islander': 0.01263093463674474, 'Native American/Native Alaskan': 0.026741500080491917}\n"
     ]
    }
   ],
   "source": [
    "homicide_rates_by_race = {}\n",
    "for race, number_of_victims in homicide_race_counts.items():\n",
    "    homicide_rates = (number_of_victims/new_dictionary[race])\n",
    "    homicide_rates *= 100000\n",
    "    homicide_rates_by_race[race] = homicide_rates\n",
    "print(homicide_rates_by_race)"
   ]
  },
  {
   "cell_type": "code",
   "execution_count": null,
   "metadata": {
    "collapsed": true
   },
   "outputs": [],
   "source": []
  }
 ],
 "metadata": {
  "kernelspec": {
   "display_name": "Python 3",
   "language": "python",
   "name": "python3"
  },
  "language_info": {
   "codemirror_mode": {
    "name": "ipython",
    "version": 3
   },
   "file_extension": ".py",
   "mimetype": "text/x-python",
   "name": "python",
   "nbconvert_exporter": "python",
   "pygments_lexer": "ipython3",
   "version": "3.4.3"
  }
 },
 "nbformat": 4,
 "nbformat_minor": 0
}
